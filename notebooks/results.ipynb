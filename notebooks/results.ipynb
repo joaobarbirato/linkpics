{
 "cells": [
  {
   "cell_type": "markdown",
   "source": [
    "# Análise dos resultados da avaliação de descrições de alinhamentos\n",
    "---\n",
    "São Carlos, 29/11/2019"
   ],
   "metadata": {
    "collapsed": false,
    "pycharm": {
     "name": "#%% md\n"
    }
   }
  },
  {
   "cell_type": "code",
   "execution_count": 2,
   "metadata": {
    "collapsed": true,
    "pycharm": {
     "is_executing": false
    }
   },
   "outputs": [],
   "source": [
    "import pandas as pd\n",
    "import numpy as np\n",
    "import matplotlib.pyplot as plt\n",
    "from app.eval_module.desc_models import DescEval"
   ]
  },
  {
   "cell_type": "markdown",
   "source": [
    "## 1. Análise geral"
   ],
   "metadata": {
    "collapsed": false,
    "pycharm": {
     "name": "#%% md\n"
    }
   }
  },
  {
   "cell_type": "code",
   "source": [
    "possible_approval = [2, 1, 0, -1]\n",
    "possible_comparing = [2, 1, 0]\n",
    "\n",
    "df = pd.DataFrame([\n",
    "    [\n",
    "        len([de for de in DescEval.query.filter_by(approval=pa, compare_baseline=pc)]) for pa in possible_approval\n",
    "    ] for pc in possible_comparing\n",
    "], columns=[DescEval.APPROVAL_TABLE[pa] for pa in possible_approval],\n",
    "index=[DescEval.COMPARE_BASELINE_TABLE[pc] for pc in possible_comparing])\n",
    "\n",
    "df"
   ],
   "metadata": {
    "collapsed": false,
    "pycharm": {
     "name": "#%%\n",
     "is_executing": false
    }
   },
   "execution_count": 10,
   "outputs": [
    {
     "data": {
      "text/plain": "        Correct  Partially correct  Incorrect  Invalid\nBetter       30                 79          0      112\nEqual       104                  0          0       90\nWorse         0                  0        123       46",
      "text/html": "<div>\n<style scoped>\n    .dataframe tbody tr th:only-of-type {\n        vertical-align: middle;\n    }\n\n    .dataframe tbody tr th {\n        vertical-align: top;\n    }\n\n    .dataframe thead th {\n        text-align: right;\n    }\n</style>\n<table border=\"1\" class=\"dataframe\">\n  <thead>\n    <tr style=\"text-align: right;\">\n      <th></th>\n      <th>Correct</th>\n      <th>Partially correct</th>\n      <th>Incorrect</th>\n      <th>Invalid</th>\n    </tr>\n  </thead>\n  <tbody>\n    <tr>\n      <th>Better</th>\n      <td>30</td>\n      <td>79</td>\n      <td>0</td>\n      <td>112</td>\n    </tr>\n    <tr>\n      <th>Equal</th>\n      <td>104</td>\n      <td>0</td>\n      <td>0</td>\n      <td>90</td>\n    </tr>\n    <tr>\n      <th>Worse</th>\n      <td>0</td>\n      <td>0</td>\n      <td>123</td>\n      <td>46</td>\n    </tr>\n  </tbody>\n</table>\n</div>"
     },
     "metadata": {},
     "output_type": "execute_result",
     "execution_count": 10
    }
   ]
  },
  {
   "cell_type": "markdown",
   "source": [
    "## 2. Análise por modelo"
   ],
   "metadata": {
    "collapsed": false
   }
  },
  {
   "cell_type": "code",
   "execution_count": 25,
   "outputs": [],
   "source": [
    "from app.desc_module.models import Description\n",
    "df_modelos = {}\n",
    "\n",
    "for key, value in Description.METHOD_TABLE.items():\n",
    "    df_modelos[value] = pd.DataFrame([\n",
    "        [\n",
    "            len([de for de in DescEval.query.filter_by(approval=pa, compare_baseline=pc) if de.get_method() == value]) for pa in possible_approval\n",
    "        ] for pc in possible_comparing\n",
    "    ], columns=[DescEval.APPROVAL_TABLE[pa] for pa in possible_approval],\n",
    "    index=[DescEval.COMPARE_BASELINE_TABLE[pc] for pc in possible_comparing])"
   ],
   "metadata": {
    "collapsed": false,
    "pycharm": {
     "name": "#%%\n",
     "is_executing": false
    }
   }
  },
  {
   "cell_type": "markdown",
   "source": [
    "### 2.1. Model1"
   ],
   "metadata": {
    "collapsed": false,
    "pycharm": {
     "name": "#%% md\n"
    }
   }
  },
  {
   "cell_type": "code",
   "source": [
    "df_modelos['Model1']"
   ],
   "metadata": {
    "collapsed": false,
    "pycharm": {
     "name": "#%%\n",
     "is_executing": false
    }
   },
   "execution_count": 24,
   "outputs": [
    {
     "data": {
      "text/plain": "        Correct  Partially correct  Incorrect  Invalid\nBetter        5                 14          0       19\nEqual        18                  0          0       15\nWorse         0                  0         19        6",
      "text/html": "<div>\n<style scoped>\n    .dataframe tbody tr th:only-of-type {\n        vertical-align: middle;\n    }\n\n    .dataframe tbody tr th {\n        vertical-align: top;\n    }\n\n    .dataframe thead th {\n        text-align: right;\n    }\n</style>\n<table border=\"1\" class=\"dataframe\">\n  <thead>\n    <tr style=\"text-align: right;\">\n      <th></th>\n      <th>Correct</th>\n      <th>Partially correct</th>\n      <th>Incorrect</th>\n      <th>Invalid</th>\n    </tr>\n  </thead>\n  <tbody>\n    <tr>\n      <th>Better</th>\n      <td>5</td>\n      <td>14</td>\n      <td>0</td>\n      <td>19</td>\n    </tr>\n    <tr>\n      <th>Equal</th>\n      <td>18</td>\n      <td>0</td>\n      <td>0</td>\n      <td>15</td>\n    </tr>\n    <tr>\n      <th>Worse</th>\n      <td>0</td>\n      <td>0</td>\n      <td>19</td>\n      <td>6</td>\n    </tr>\n  </tbody>\n</table>\n</div>"
     },
     "metadata": {},
     "output_type": "execute_result",
     "execution_count": 24
    }
   ]
  },
  {
   "cell_type": "markdown",
   "source": [
    "### 2.2. Model2"
   ],
   "metadata": {
    "collapsed": false
   }
  },
  {
   "cell_type": "code",
   "execution_count": 18,
   "outputs": [
    {
     "data": {
      "text/plain": "        Correct  Partially correct  Incorrect  Invalid\nBetter        5                 13          0       18\nEqual        18                  0          0       15\nWorse         0                  0         20        7",
      "text/html": "<div>\n<style scoped>\n    .dataframe tbody tr th:only-of-type {\n        vertical-align: middle;\n    }\n\n    .dataframe tbody tr th {\n        vertical-align: top;\n    }\n\n    .dataframe thead th {\n        text-align: right;\n    }\n</style>\n<table border=\"1\" class=\"dataframe\">\n  <thead>\n    <tr style=\"text-align: right;\">\n      <th></th>\n      <th>Correct</th>\n      <th>Partially correct</th>\n      <th>Incorrect</th>\n      <th>Invalid</th>\n    </tr>\n  </thead>\n  <tbody>\n    <tr>\n      <th>Better</th>\n      <td>5</td>\n      <td>13</td>\n      <td>0</td>\n      <td>18</td>\n    </tr>\n    <tr>\n      <th>Equal</th>\n      <td>18</td>\n      <td>0</td>\n      <td>0</td>\n      <td>15</td>\n    </tr>\n    <tr>\n      <th>Worse</th>\n      <td>0</td>\n      <td>0</td>\n      <td>20</td>\n      <td>7</td>\n    </tr>\n  </tbody>\n</table>\n</div>"
     },
     "metadata": {},
     "output_type": "execute_result",
     "execution_count": 18
    }
   ],
   "source": [
    "df_modelos['Model2']"
   ],
   "metadata": {
    "collapsed": false,
    "pycharm": {
     "name": "#%%\n",
     "is_executing": false
    }
   }
  },
  {
   "cell_type": "markdown",
   "source": [
    "### 2.3. Model3"
   ],
   "metadata": {
    "collapsed": false
   }
  },
  {
   "cell_type": "code",
   "execution_count": 19,
   "outputs": [
    {
     "data": {
      "text/plain": "        Correct  Partially correct  Incorrect  Invalid\nBetter        5                 13          0       19\nEqual        17                  0          0       15\nWorse         0                  0         21        8",
      "text/html": "<div>\n<style scoped>\n    .dataframe tbody tr th:only-of-type {\n        vertical-align: middle;\n    }\n\n    .dataframe tbody tr th {\n        vertical-align: top;\n    }\n\n    .dataframe thead th {\n        text-align: right;\n    }\n</style>\n<table border=\"1\" class=\"dataframe\">\n  <thead>\n    <tr style=\"text-align: right;\">\n      <th></th>\n      <th>Correct</th>\n      <th>Partially correct</th>\n      <th>Incorrect</th>\n      <th>Invalid</th>\n    </tr>\n  </thead>\n  <tbody>\n    <tr>\n      <th>Better</th>\n      <td>5</td>\n      <td>13</td>\n      <td>0</td>\n      <td>19</td>\n    </tr>\n    <tr>\n      <th>Equal</th>\n      <td>17</td>\n      <td>0</td>\n      <td>0</td>\n      <td>15</td>\n    </tr>\n    <tr>\n      <th>Worse</th>\n      <td>0</td>\n      <td>0</td>\n      <td>21</td>\n      <td>8</td>\n    </tr>\n  </tbody>\n</table>\n</div>"
     },
     "metadata": {},
     "output_type": "execute_result",
     "execution_count": 19
    }
   ],
   "source": [
    "df_modelos['Model3']"
   ],
   "metadata": {
    "collapsed": false,
    "pycharm": {
     "name": "#%%\n",
     "is_executing": false
    }
   }
  },
  {
   "cell_type": "markdown",
   "source": [
    "### 2.4. Model4"
   ],
   "metadata": {
    "collapsed": false
   }
  },
  {
   "cell_type": "code",
   "execution_count": 20,
   "outputs": [
    {
     "data": {
      "text/plain": "        Correct  Partially correct  Incorrect  Invalid\nBetter        5                 13          0       18\nEqual        17                  0          0       15\nWorse         0                  0         21        9",
      "text/html": "<div>\n<style scoped>\n    .dataframe tbody tr th:only-of-type {\n        vertical-align: middle;\n    }\n\n    .dataframe tbody tr th {\n        vertical-align: top;\n    }\n\n    .dataframe thead th {\n        text-align: right;\n    }\n</style>\n<table border=\"1\" class=\"dataframe\">\n  <thead>\n    <tr style=\"text-align: right;\">\n      <th></th>\n      <th>Correct</th>\n      <th>Partially correct</th>\n      <th>Incorrect</th>\n      <th>Invalid</th>\n    </tr>\n  </thead>\n  <tbody>\n    <tr>\n      <th>Better</th>\n      <td>5</td>\n      <td>13</td>\n      <td>0</td>\n      <td>18</td>\n    </tr>\n    <tr>\n      <th>Equal</th>\n      <td>17</td>\n      <td>0</td>\n      <td>0</td>\n      <td>15</td>\n    </tr>\n    <tr>\n      <th>Worse</th>\n      <td>0</td>\n      <td>0</td>\n      <td>21</td>\n      <td>9</td>\n    </tr>\n  </tbody>\n</table>\n</div>"
     },
     "metadata": {},
     "output_type": "execute_result",
     "execution_count": 20
    }
   ],
   "source": [
    "df_modelos['Model4']"
   ],
   "metadata": {
    "collapsed": false,
    "pycharm": {
     "name": "#%%\n",
     "is_executing": false
    }
   }
  },
  {
   "cell_type": "markdown",
   "source": [
    "### 2.5. Model5"
   ],
   "metadata": {
    "collapsed": false
   }
  },
  {
   "cell_type": "code",
   "execution_count": 21,
   "outputs": [
    {
     "data": {
      "text/plain": "        Correct  Partially correct  Incorrect  Invalid\nBetter        5                 13          0       19\nEqual        17                  0          0       15\nWorse         0                  0         21        8",
      "text/html": "<div>\n<style scoped>\n    .dataframe tbody tr th:only-of-type {\n        vertical-align: middle;\n    }\n\n    .dataframe tbody tr th {\n        vertical-align: top;\n    }\n\n    .dataframe thead th {\n        text-align: right;\n    }\n</style>\n<table border=\"1\" class=\"dataframe\">\n  <thead>\n    <tr style=\"text-align: right;\">\n      <th></th>\n      <th>Correct</th>\n      <th>Partially correct</th>\n      <th>Incorrect</th>\n      <th>Invalid</th>\n    </tr>\n  </thead>\n  <tbody>\n    <tr>\n      <th>Better</th>\n      <td>5</td>\n      <td>13</td>\n      <td>0</td>\n      <td>19</td>\n    </tr>\n    <tr>\n      <th>Equal</th>\n      <td>17</td>\n      <td>0</td>\n      <td>0</td>\n      <td>15</td>\n    </tr>\n    <tr>\n      <th>Worse</th>\n      <td>0</td>\n      <td>0</td>\n      <td>21</td>\n      <td>8</td>\n    </tr>\n  </tbody>\n</table>\n</div>"
     },
     "metadata": {},
     "output_type": "execute_result",
     "execution_count": 21
    }
   ],
   "source": [
    "df_modelos['Model5']"
   ],
   "metadata": {
    "collapsed": false,
    "pycharm": {
     "name": "#%%\n",
     "is_executing": false
    }
   }
  },
  {
   "cell_type": "markdown",
   "source": [
    "### 2.6. Model6"
   ],
   "metadata": {
    "collapsed": false
   }
  },
  {
   "cell_type": "code",
   "execution_count": 23,
   "outputs": [
    {
     "data": {
      "text/plain": "        Correct  Partially correct  Incorrect  Invalid\nBetter        5                 13          0       19\nEqual        17                  0          0       15\nWorse         0                  0         21        8",
      "text/html": "<div>\n<style scoped>\n    .dataframe tbody tr th:only-of-type {\n        vertical-align: middle;\n    }\n\n    .dataframe tbody tr th {\n        vertical-align: top;\n    }\n\n    .dataframe thead th {\n        text-align: right;\n    }\n</style>\n<table border=\"1\" class=\"dataframe\">\n  <thead>\n    <tr style=\"text-align: right;\">\n      <th></th>\n      <th>Correct</th>\n      <th>Partially correct</th>\n      <th>Incorrect</th>\n      <th>Invalid</th>\n    </tr>\n  </thead>\n  <tbody>\n    <tr>\n      <th>Better</th>\n      <td>5</td>\n      <td>13</td>\n      <td>0</td>\n      <td>19</td>\n    </tr>\n    <tr>\n      <th>Equal</th>\n      <td>17</td>\n      <td>0</td>\n      <td>0</td>\n      <td>15</td>\n    </tr>\n    <tr>\n      <th>Worse</th>\n      <td>0</td>\n      <td>0</td>\n      <td>21</td>\n      <td>8</td>\n    </tr>\n  </tbody>\n</table>\n</div>"
     },
     "metadata": {},
     "output_type": "execute_result",
     "execution_count": 23
    }
   ],
   "source": [
    "df_modelos['Model6']"
   ],
   "metadata": {
    "collapsed": false,
    "pycharm": {
     "name": "#%%\n",
     "is_executing": false
    }
   }
  }
 ],
 "metadata": {
  "kernelspec": {
   "display_name": "Python 3",
   "language": "python",
   "name": "python3"
  },
  "language_info": {
   "codemirror_mode": {
    "name": "ipython",
    "version": 2
   },
   "file_extension": ".py",
   "mimetype": "text/x-python",
   "name": "python",
   "nbconvert_exporter": "python",
   "pygments_lexer": "ipython2",
   "version": "2.7.6"
  },
  "pycharm": {
   "stem_cell": {
    "cell_type": "raw",
    "source": [],
    "metadata": {
     "collapsed": false
    }
   }
  }
 },
 "nbformat": 4,
 "nbformat_minor": 0
}