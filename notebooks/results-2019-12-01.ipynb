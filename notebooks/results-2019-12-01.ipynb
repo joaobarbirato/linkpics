{
 "cells": [
  {
   "cell_type": "markdown",
   "metadata": {
    "collapsed": true,
    "pycharm": {
     "name": "#%% md\n"
    }
   },
   "source": [
    "# Análise dos resultados da avaliação de descrições de alinhamentos\n",
    "---\n",
    "São Carlos, 01/12/2019"
   ]
  },
  {
   "cell_type": "code",
   "execution_count": 1,
   "outputs": [],
   "source": [
    "import pandas as pd\n",
    "import numpy as np\n",
    "import matplotlib.pyplot as plt\n",
    "from app.eval_module.desc_models import DescEval"
   ],
   "metadata": {
    "collapsed": false,
    "pycharm": {
     "name": "#%%\n",
     "is_executing": false
    }
   }
  },
  {
   "cell_type": "markdown",
   "source": [
    "## 1. Análise geral"
   ],
   "metadata": {
    "collapsed": false
   }
  },
  {
   "cell_type": "code",
   "execution_count": 2,
   "outputs": [
    {
     "data": {
      "text/plain": "        Correct  Partially correct  Incorrect  Invalid\nBetter       29                 62          0       99\nEqual        49                  3          0       54\nWorse         0                  0        175      125",
      "text/html": "<div>\n<style scoped>\n    .dataframe tbody tr th:only-of-type {\n        vertical-align: middle;\n    }\n\n    .dataframe tbody tr th {\n        vertical-align: top;\n    }\n\n    .dataframe thead th {\n        text-align: right;\n    }\n</style>\n<table border=\"1\" class=\"dataframe\">\n  <thead>\n    <tr style=\"text-align: right;\">\n      <th></th>\n      <th>Correct</th>\n      <th>Partially correct</th>\n      <th>Incorrect</th>\n      <th>Invalid</th>\n    </tr>\n  </thead>\n  <tbody>\n    <tr>\n      <th>Better</th>\n      <td>29</td>\n      <td>62</td>\n      <td>0</td>\n      <td>99</td>\n    </tr>\n    <tr>\n      <th>Equal</th>\n      <td>49</td>\n      <td>3</td>\n      <td>0</td>\n      <td>54</td>\n    </tr>\n    <tr>\n      <th>Worse</th>\n      <td>0</td>\n      <td>0</td>\n      <td>175</td>\n      <td>125</td>\n    </tr>\n  </tbody>\n</table>\n</div>"
     },
     "metadata": {},
     "output_type": "execute_result",
     "execution_count": 2
    }
   ],
   "source": [
    "possible_approval = [2, 1, 0, -1]\n",
    "possible_comparing = [2, 1, 0]\n",
    "\n",
    "df = pd.DataFrame([\n",
    "    [\n",
    "        len([de for de in DescEval.query.filter_by(approval=pa, compare_baseline=pc)]) for pa in possible_approval\n",
    "    ] for pc in possible_comparing\n",
    "], columns=[DescEval.APPROVAL_TABLE[pa] for pa in possible_approval],\n",
    "index=[DescEval.COMPARE_BASELINE_TABLE[pc] for pc in possible_comparing])\n",
    "\n",
    "df"
   ],
   "metadata": {
    "collapsed": false,
    "pycharm": {
     "name": "#%%\n",
     "is_executing": false
    }
   }
  },
  {
   "cell_type": "markdown",
   "source": [
    "## 2. Análise por modelo"
   ],
   "metadata": {
    "collapsed": false
   }
  },
  {
   "cell_type": "code",
   "execution_count": 3,
   "outputs": [],
   "source": [
    "from app.desc_module.models import Description\n",
    "df_modelos = {}\n",
    "\n",
    "for key, value in Description.METHOD_TABLE.items():\n",
    "    df_modelos[value] = pd.DataFrame([\n",
    "        [\n",
    "            len([de for de in DescEval.query.filter_by(approval=pa, compare_baseline=pc) if de.get_method() == value]) for pa in possible_approval\n",
    "        ] for pc in possible_comparing\n",
    "    ], columns=[DescEval.APPROVAL_TABLE[pa] for pa in possible_approval],\n",
    "    index=[DescEval.COMPARE_BASELINE_TABLE[pc] for pc in possible_comparing])"
   ],
   "metadata": {
    "collapsed": false,
    "pycharm": {
     "name": "#%%\n",
     "is_executing": false
    }
   }
  },
  {
   "cell_type": "markdown",
   "source": [
    "### 2.1. Model1"
   ],
   "metadata": {
    "collapsed": false
   }
  },
  {
   "cell_type": "code",
   "execution_count": 4,
   "outputs": [
    {
     "data": {
      "text/plain": "        Correct  Partially correct  Incorrect  Invalid\nBetter        7                 12          0       14\nEqual         0                  1          0        3\nWorse         0                  0         34       27",
      "text/html": "<div>\n<style scoped>\n    .dataframe tbody tr th:only-of-type {\n        vertical-align: middle;\n    }\n\n    .dataframe tbody tr th {\n        vertical-align: top;\n    }\n\n    .dataframe thead th {\n        text-align: right;\n    }\n</style>\n<table border=\"1\" class=\"dataframe\">\n  <thead>\n    <tr style=\"text-align: right;\">\n      <th></th>\n      <th>Correct</th>\n      <th>Partially correct</th>\n      <th>Incorrect</th>\n      <th>Invalid</th>\n    </tr>\n  </thead>\n  <tbody>\n    <tr>\n      <th>Better</th>\n      <td>7</td>\n      <td>12</td>\n      <td>0</td>\n      <td>14</td>\n    </tr>\n    <tr>\n      <th>Equal</th>\n      <td>0</td>\n      <td>1</td>\n      <td>0</td>\n      <td>3</td>\n    </tr>\n    <tr>\n      <th>Worse</th>\n      <td>0</td>\n      <td>0</td>\n      <td>34</td>\n      <td>27</td>\n    </tr>\n  </tbody>\n</table>\n</div>"
     },
     "metadata": {},
     "output_type": "execute_result",
     "execution_count": 4
    }
   ],
   "source": [
    "df_modelos['Model1']"
   ],
   "metadata": {
    "collapsed": false,
    "pycharm": {
     "name": "#%%\n",
     "is_executing": false
    }
   }
  },
  {
   "cell_type": "markdown",
   "source": [
    "### 2.2. Model2"
   ],
   "metadata": {
    "collapsed": false
   }
  },
  {
   "cell_type": "code",
   "execution_count": 5,
   "outputs": [
    {
     "data": {
      "text/plain": "        Correct  Partially correct  Incorrect  Invalid\nBetter        6                  8          0       20\nEqual        17                  0          0       15\nWorse         0                  0         21       11",
      "text/html": "<div>\n<style scoped>\n    .dataframe tbody tr th:only-of-type {\n        vertical-align: middle;\n    }\n\n    .dataframe tbody tr th {\n        vertical-align: top;\n    }\n\n    .dataframe thead th {\n        text-align: right;\n    }\n</style>\n<table border=\"1\" class=\"dataframe\">\n  <thead>\n    <tr style=\"text-align: right;\">\n      <th></th>\n      <th>Correct</th>\n      <th>Partially correct</th>\n      <th>Incorrect</th>\n      <th>Invalid</th>\n    </tr>\n  </thead>\n  <tbody>\n    <tr>\n      <th>Better</th>\n      <td>6</td>\n      <td>8</td>\n      <td>0</td>\n      <td>20</td>\n    </tr>\n    <tr>\n      <th>Equal</th>\n      <td>17</td>\n      <td>0</td>\n      <td>0</td>\n      <td>15</td>\n    </tr>\n    <tr>\n      <th>Worse</th>\n      <td>0</td>\n      <td>0</td>\n      <td>21</td>\n      <td>11</td>\n    </tr>\n  </tbody>\n</table>\n</div>"
     },
     "metadata": {},
     "output_type": "execute_result",
     "execution_count": 5
    }
   ],
   "source": [
    "df_modelos['Model2']"
   ],
   "metadata": {
    "collapsed": false,
    "pycharm": {
     "name": "#%%\n",
     "is_executing": false
    }
   }
  },
  {
   "cell_type": "markdown",
   "source": [
    "### 2.3. Model3"
   ],
   "metadata": {
    "collapsed": false
   }
  },
  {
   "cell_type": "code",
   "execution_count": 6,
   "outputs": [
    {
     "data": {
      "text/plain": "        Correct  Partially correct  Incorrect  Invalid\nBetter        4                 11          0       15\nEqual         0                  1          0        3\nWorse         0                  0         37       29",
      "text/html": "<div>\n<style scoped>\n    .dataframe tbody tr th:only-of-type {\n        vertical-align: middle;\n    }\n\n    .dataframe tbody tr th {\n        vertical-align: top;\n    }\n\n    .dataframe thead th {\n        text-align: right;\n    }\n</style>\n<table border=\"1\" class=\"dataframe\">\n  <thead>\n    <tr style=\"text-align: right;\">\n      <th></th>\n      <th>Correct</th>\n      <th>Partially correct</th>\n      <th>Incorrect</th>\n      <th>Invalid</th>\n    </tr>\n  </thead>\n  <tbody>\n    <tr>\n      <th>Better</th>\n      <td>4</td>\n      <td>11</td>\n      <td>0</td>\n      <td>15</td>\n    </tr>\n    <tr>\n      <th>Equal</th>\n      <td>0</td>\n      <td>1</td>\n      <td>0</td>\n      <td>3</td>\n    </tr>\n    <tr>\n      <th>Worse</th>\n      <td>0</td>\n      <td>0</td>\n      <td>37</td>\n      <td>29</td>\n    </tr>\n  </tbody>\n</table>\n</div>"
     },
     "metadata": {},
     "output_type": "execute_result",
     "execution_count": 6
    }
   ],
   "source": [
    "df_modelos['Model3']"
   ],
   "metadata": {
    "collapsed": false,
    "pycharm": {
     "name": "#%%\n",
     "is_executing": false
    }
   }
  },
  {
   "cell_type": "markdown",
   "source": [
    "### 2.4. Model4"
   ],
   "metadata": {
    "collapsed": false
   }
  },
  {
   "cell_type": "code",
   "execution_count": 7,
   "outputs": [
    {
     "data": {
      "text/plain": "        Correct  Partially correct  Incorrect  Invalid\nBetter        4                 10          0       18\nEqual        16                  0          0       15\nWorse         0                  0         23       14",
      "text/html": "<div>\n<style scoped>\n    .dataframe tbody tr th:only-of-type {\n        vertical-align: middle;\n    }\n\n    .dataframe tbody tr th {\n        vertical-align: top;\n    }\n\n    .dataframe thead th {\n        text-align: right;\n    }\n</style>\n<table border=\"1\" class=\"dataframe\">\n  <thead>\n    <tr style=\"text-align: right;\">\n      <th></th>\n      <th>Correct</th>\n      <th>Partially correct</th>\n      <th>Incorrect</th>\n      <th>Invalid</th>\n    </tr>\n  </thead>\n  <tbody>\n    <tr>\n      <th>Better</th>\n      <td>4</td>\n      <td>10</td>\n      <td>0</td>\n      <td>18</td>\n    </tr>\n    <tr>\n      <th>Equal</th>\n      <td>16</td>\n      <td>0</td>\n      <td>0</td>\n      <td>15</td>\n    </tr>\n    <tr>\n      <th>Worse</th>\n      <td>0</td>\n      <td>0</td>\n      <td>23</td>\n      <td>14</td>\n    </tr>\n  </tbody>\n</table>\n</div>"
     },
     "metadata": {},
     "output_type": "execute_result",
     "execution_count": 7
    }
   ],
   "source": [
    "df_modelos['Model4']"
   ],
   "metadata": {
    "collapsed": false,
    "pycharm": {
     "name": "#%%\n",
     "is_executing": false
    }
   }
  },
  {
   "cell_type": "markdown",
   "source": [
    "### 2.5. Model5"
   ],
   "metadata": {
    "collapsed": false
   }
  },
  {
   "cell_type": "code",
   "execution_count": 8,
   "outputs": [
    {
     "data": {
      "text/plain": "        Correct  Partially correct  Incorrect  Invalid\nBetter        4                 11          0       15\nEqual         0                  1          0        3\nWorse         0                  0         37       29",
      "text/html": "<div>\n<style scoped>\n    .dataframe tbody tr th:only-of-type {\n        vertical-align: middle;\n    }\n\n    .dataframe tbody tr th {\n        vertical-align: top;\n    }\n\n    .dataframe thead th {\n        text-align: right;\n    }\n</style>\n<table border=\"1\" class=\"dataframe\">\n  <thead>\n    <tr style=\"text-align: right;\">\n      <th></th>\n      <th>Correct</th>\n      <th>Partially correct</th>\n      <th>Incorrect</th>\n      <th>Invalid</th>\n    </tr>\n  </thead>\n  <tbody>\n    <tr>\n      <th>Better</th>\n      <td>4</td>\n      <td>11</td>\n      <td>0</td>\n      <td>15</td>\n    </tr>\n    <tr>\n      <th>Equal</th>\n      <td>0</td>\n      <td>1</td>\n      <td>0</td>\n      <td>3</td>\n    </tr>\n    <tr>\n      <th>Worse</th>\n      <td>0</td>\n      <td>0</td>\n      <td>37</td>\n      <td>29</td>\n    </tr>\n  </tbody>\n</table>\n</div>"
     },
     "metadata": {},
     "output_type": "execute_result",
     "execution_count": 8
    }
   ],
   "source": [
    "df_modelos['Model5']"
   ],
   "metadata": {
    "collapsed": false,
    "pycharm": {
     "name": "#%%\n",
     "is_executing": false
    }
   }
  },
  {
   "cell_type": "markdown",
   "source": [
    "### 2.6. Model6"
   ],
   "metadata": {
    "collapsed": false
   }
  },
  {
   "cell_type": "code",
   "execution_count": 9,
   "outputs": [
    {
     "data": {
      "text/plain": "        Correct  Partially correct  Incorrect  Invalid\nBetter        4                 10          0       17\nEqual        16                  0          0       15\nWorse         0                  0         23       15",
      "text/html": "<div>\n<style scoped>\n    .dataframe tbody tr th:only-of-type {\n        vertical-align: middle;\n    }\n\n    .dataframe tbody tr th {\n        vertical-align: top;\n    }\n\n    .dataframe thead th {\n        text-align: right;\n    }\n</style>\n<table border=\"1\" class=\"dataframe\">\n  <thead>\n    <tr style=\"text-align: right;\">\n      <th></th>\n      <th>Correct</th>\n      <th>Partially correct</th>\n      <th>Incorrect</th>\n      <th>Invalid</th>\n    </tr>\n  </thead>\n  <tbody>\n    <tr>\n      <th>Better</th>\n      <td>4</td>\n      <td>10</td>\n      <td>0</td>\n      <td>17</td>\n    </tr>\n    <tr>\n      <th>Equal</th>\n      <td>16</td>\n      <td>0</td>\n      <td>0</td>\n      <td>15</td>\n    </tr>\n    <tr>\n      <th>Worse</th>\n      <td>0</td>\n      <td>0</td>\n      <td>23</td>\n      <td>15</td>\n    </tr>\n  </tbody>\n</table>\n</div>"
     },
     "metadata": {},
     "output_type": "execute_result",
     "execution_count": 9
    }
   ],
   "source": [
    "df_modelos['Model6']"
   ],
   "metadata": {
    "collapsed": false,
    "pycharm": {
     "name": "#%%\n",
     "is_executing": false
    }
   }
  }
 ],
 "metadata": {
  "kernelspec": {
   "display_name": "Python 3",
   "language": "python",
   "name": "python3"
  },
  "language_info": {
   "codemirror_mode": {
    "name": "ipython",
    "version": 2
   },
   "file_extension": ".py",
   "mimetype": "text/x-python",
   "name": "python",
   "nbconvert_exporter": "python",
   "pygments_lexer": "ipython2",
   "version": "2.7.6"
  },
  "pycharm": {
   "stem_cell": {
    "cell_type": "raw",
    "source": [],
    "metadata": {
     "collapsed": false
    }
   }
  }
 },
 "nbformat": 4,
 "nbformat_minor": 0
}