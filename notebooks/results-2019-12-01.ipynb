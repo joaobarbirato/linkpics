{
 "cells": [
  {
   "cell_type": "markdown",
   "metadata": {
    "collapsed": true,
    "pycharm": {
     "name": "#%% md\n"
    }
   },
   "source": [
    "# Análise dos resultados da avaliação de descrições de alinhamentos\n",
    "---\n",
    "São Carlos, 01/12/2019"
   ]
  },
  {
   "cell_type": "code",
   "execution_count": 37,
   "outputs": [],
   "source": [
    "import pandas as pd\n",
    "import numpy as np\n",
    "import matplotlib.pyplot as plt\n",
    "from app.eval_module.desc_models import DescEval\n",
    "\n",
    "def print_metrics(df):\n",
    "    \"\"\"\n",
    "\n",
    "    :param df: pandas data-frame \n",
    "    :return: \n",
    "    \"\"\"\n",
    "    total = df.values.sum()\n",
    "    print(f\"Total:\\t\\t\\t{df.values.sum()}\")\n",
    "    print(f\"Valid:\\t\\t\\t{df.loc[:, 'Correct':'Incorrect'].values.sum()} |\\t{df.loc[:, 'Correct':'Incorrect'].values.sum()*100./total:.2f} %\")\n",
    "    print(f\"Correct:\\t\\t{df.loc[:, 'Correct'].values.sum()} |\\t{df.loc[:, 'Correct'].values.sum() * 100./total:.2f} %\")\n",
    "    print(f\"Partially correct:\\t{df.loc[:, 'Partially correct'].values.sum()} |\\t{df.loc[:, 'Partially correct'].values.sum() * 100./total:.2f} %\")\n",
    "    print(f\"Incorrect:\\t\\t{df.loc[:, 'Incorrect'].values.sum()} |\\t{df.loc[:, 'Incorrect'].values.sum() * 100./total:.2f} %\")\n",
    "    print(f\"Invalid:\\t\\t{df.loc[:, 'Invalid'].values.sum()} |\\t{df.loc[:, 'Invalid'].values.sum() * 100./total:.2f} %\")\n",
    "    print()\n",
    "    print('Valid descriptions != alignment')\n",
    "    df1: pd.DataFrame = df.loc[:, 'Correct':'Incorrect']\n",
    "    # df1.loc[:, 'Correct'].sum()\n",
    "    total = df1.values.sum() - df1.loc['Equal'].sum()\n",
    "    correct = df1.loc[:, 'Correct'].sum() - df1.loc['Equal', 'Correct'].sum()\n",
    "    p_correct = df1.loc[:, 'Partially correct'].sum() - df1.loc['Equal', 'Partially correct'].sum()\n",
    "    incorrect = df1.loc[:, 'Incorrect'].sum() - df1.loc['Equal', 'Incorrect'].sum()\n",
    "    print(f\"{correct}\\tValid NE. Correct:\\t\\t{correct * 100./total:.2f} %\")\n",
    "    print(f\"{p_correct}\\tValid NE. Partially Correct:\\t{p_correct * 100./total:.2f} %\")\n",
    "    print(f\"{incorrect}\\tValid NE. Incorrect:\\t\\t{incorrect * 100./total:.2f} %\")\n",
    "    print()\n",
    "    print('Valid descriptions != alignment')\n",
    "    df2 = df\n",
    "    total = df2.values.sum()\n",
    "    better = df2.loc['Better'].sum()\n",
    "    equal = df2.loc['Equal'].sum()\n",
    "    worse = df2.loc['Worse'].sum()\n",
    "    print(f\"{better}\\tBetter:\\t{better * 100./total:.2f} %\")\n",
    "    print(f\"{equal}\\tEqual:\\t{equal * 100./total:.2f} %\")\n",
    "    print(f\"{worse}\\tWorse:\\t{worse * 100./total:.2f} %\")\n",
    "    print()\n",
    "    print(df.to_latex())"
   ],
   "metadata": {
    "collapsed": false,
    "pycharm": {
     "name": "#%%\n",
     "is_executing": false
    }
   }
  },
  {
   "cell_type": "markdown",
   "source": [
    "## 1. Análise geral"
   ],
   "metadata": {
    "collapsed": false
   }
  },
  {
   "cell_type": "code",
   "execution_count": 38,
   "outputs": [
    {
     "name": "stdout",
     "text": [
      "Total:\t\t\t596\nValid:\t\t\t318 |\t53.36 %\nCorrect:\t\t78 |\t13.09 %\nPartially correct:\t65 |\t10.91 %\nIncorrect:\t\t175 |\t29.36 %\nInvalid:\t\t278 |\t46.64 %\n\nValid descriptions != alignment\n29\tValid NE. Correct:\t\t10.90 %\n62\tValid NE. Partially Correct:\t23.31 %\n175\tValid NE. Incorrect:\t\t65.79 %\n\nValid descriptions != alignment\n190\tBetter:\t31.88 %\n106\tEqual:\t17.79 %\n300\tWorse:\t50.34 %\n\n\\begin{tabular}{lrrrr}\n\\toprule\n{} &  Correct &  Partially correct &  Incorrect &  Invalid \\\\\n\\midrule\nBetter &       29 &                 62 &          0 &       99 \\\\\nEqual  &       49 &                  3 &          0 &       54 \\\\\nWorse  &        0 &                  0 &        175 &      125 \\\\\n\\bottomrule\n\\end{tabular}\n\n"
     ],
     "output_type": "stream"
    },
    {
     "data": {
      "text/plain": "        Correct  Partially correct  Incorrect  Invalid\nBetter       29                 62          0       99\nEqual        49                  3          0       54\nWorse         0                  0        175      125",
      "text/html": "<div>\n<style scoped>\n    .dataframe tbody tr th:only-of-type {\n        vertical-align: middle;\n    }\n\n    .dataframe tbody tr th {\n        vertical-align: top;\n    }\n\n    .dataframe thead th {\n        text-align: right;\n    }\n</style>\n<table border=\"1\" class=\"dataframe\">\n  <thead>\n    <tr style=\"text-align: right;\">\n      <th></th>\n      <th>Correct</th>\n      <th>Partially correct</th>\n      <th>Incorrect</th>\n      <th>Invalid</th>\n    </tr>\n  </thead>\n  <tbody>\n    <tr>\n      <th>Better</th>\n      <td>29</td>\n      <td>62</td>\n      <td>0</td>\n      <td>99</td>\n    </tr>\n    <tr>\n      <th>Equal</th>\n      <td>49</td>\n      <td>3</td>\n      <td>0</td>\n      <td>54</td>\n    </tr>\n    <tr>\n      <th>Worse</th>\n      <td>0</td>\n      <td>0</td>\n      <td>175</td>\n      <td>125</td>\n    </tr>\n  </tbody>\n</table>\n</div>"
     },
     "metadata": {},
     "output_type": "execute_result",
     "execution_count": 38
    }
   ],
   "source": [
    "possible_approval = [2, 1, 0, -1]\n",
    "possible_comparing = [2, 1, 0]\n",
    "\n",
    "df = pd.DataFrame([\n",
    "    [\n",
    "        len([de for de in DescEval.query.filter_by(approval=pa, compare_baseline=pc)]) for pa in possible_approval\n",
    "    ] for pc in possible_comparing\n",
    "], columns=[DescEval.APPROVAL_TABLE[pa] for pa in possible_approval],\n",
    "index=[DescEval.COMPARE_BASELINE_TABLE[pc] for pc in possible_comparing])\n",
    "\n",
    "print_metrics(df)\n",
    "df"
   ],
   "metadata": {
    "collapsed": false,
    "pycharm": {
     "name": "#%%\n",
     "is_executing": false
    }
   }
  },
  {
   "cell_type": "markdown",
   "source": [
    "## 2. Análise por modelo"
   ],
   "metadata": {
    "collapsed": false
   }
  },
  {
   "cell_type": "code",
   "execution_count": 39,
   "outputs": [],
   "source": [
    "from app.desc_module.models import Description\n",
    "df_modelos = {}\n",
    "\n",
    "for key, value in Description.METHOD_TABLE.items():\n",
    "    df_modelos[value] = pd.DataFrame([\n",
    "        [\n",
    "            len([de for de in DescEval.query.filter_by(approval=pa, compare_baseline=pc) if de.get_method() == value]) for pa in possible_approval\n",
    "        ] for pc in possible_comparing\n",
    "    ], columns=[DescEval.APPROVAL_TABLE[pa] for pa in possible_approval],\n",
    "    index=[DescEval.COMPARE_BASELINE_TABLE[pc] for pc in possible_comparing])"
   ],
   "metadata": {
    "collapsed": false,
    "pycharm": {
     "name": "#%%\n",
     "is_executing": false
    }
   }
  },
  {
   "cell_type": "markdown",
   "source": [
    "### 2.1. Model1"
   ],
   "metadata": {
    "collapsed": false
   }
  },
  {
   "cell_type": "code",
   "execution_count": 40,
   "outputs": [
    {
     "name": "stdout",
     "text": [
      "Total:\t\t\t98\nValid:\t\t\t54 |\t55.10 %\nCorrect:\t\t7 |\t7.14 %\nPartially correct:\t13 |\t13.27 %\nIncorrect:\t\t34 |\t34.69 %\nInvalid:\t\t44 |\t44.90 %\n\nValid descriptions != alignment\n7\tValid NE. Correct:\t\t13.21 %\n12\tValid NE. Partially Correct:\t22.64 %\n34\tValid NE. Incorrect:\t\t64.15 %\n\nValid descriptions != alignment\n33\tBetter:\t33.67 %\n4\tEqual:\t4.08 %\n61\tWorse:\t62.24 %\n\n\\begin{tabular}{lrrrr}\n\\toprule\n{} &  Correct &  Partially correct &  Incorrect &  Invalid \\\\\n\\midrule\nBetter &        7 &                 12 &          0 &       14 \\\\\nEqual  &        0 &                  1 &          0 &        3 \\\\\nWorse  &        0 &                  0 &         34 &       27 \\\\\n\\bottomrule\n\\end{tabular}\n\n"
     ],
     "output_type": "stream"
    },
    {
     "data": {
      "text/plain": "        Correct  Partially correct  Incorrect  Invalid\nBetter        7                 12          0       14\nEqual         0                  1          0        3\nWorse         0                  0         34       27",
      "text/html": "<div>\n<style scoped>\n    .dataframe tbody tr th:only-of-type {\n        vertical-align: middle;\n    }\n\n    .dataframe tbody tr th {\n        vertical-align: top;\n    }\n\n    .dataframe thead th {\n        text-align: right;\n    }\n</style>\n<table border=\"1\" class=\"dataframe\">\n  <thead>\n    <tr style=\"text-align: right;\">\n      <th></th>\n      <th>Correct</th>\n      <th>Partially correct</th>\n      <th>Incorrect</th>\n      <th>Invalid</th>\n    </tr>\n  </thead>\n  <tbody>\n    <tr>\n      <th>Better</th>\n      <td>7</td>\n      <td>12</td>\n      <td>0</td>\n      <td>14</td>\n    </tr>\n    <tr>\n      <th>Equal</th>\n      <td>0</td>\n      <td>1</td>\n      <td>0</td>\n      <td>3</td>\n    </tr>\n    <tr>\n      <th>Worse</th>\n      <td>0</td>\n      <td>0</td>\n      <td>34</td>\n      <td>27</td>\n    </tr>\n  </tbody>\n</table>\n</div>"
     },
     "metadata": {},
     "output_type": "execute_result",
     "execution_count": 40
    }
   ],
   "source": [
    "print_metrics(df_modelos['Model1'])\n",
    "df_modelos['Model1']"
   ],
   "metadata": {
    "collapsed": false,
    "pycharm": {
     "name": "#%%\n",
     "is_executing": false
    }
   }
  },
  {
   "cell_type": "markdown",
   "source": [
    "### 2.2. Model2"
   ],
   "metadata": {
    "collapsed": false
   }
  },
  {
   "cell_type": "code",
   "execution_count": 41,
   "outputs": [
    {
     "name": "stdout",
     "text": [
      "Total:\t\t\t98\nValid:\t\t\t52 |\t53.06 %\nCorrect:\t\t23 |\t23.47 %\nPartially correct:\t8 |\t8.16 %\nIncorrect:\t\t21 |\t21.43 %\nInvalid:\t\t46 |\t46.94 %\n\nValid descriptions != alignment\n6\tValid NE. Correct:\t\t17.14 %\n8\tValid NE. Partially Correct:\t22.86 %\n21\tValid NE. Incorrect:\t\t60.00 %\n\nValid descriptions != alignment\n34\tBetter:\t34.69 %\n32\tEqual:\t32.65 %\n32\tWorse:\t32.65 %\n\n\\begin{tabular}{lrrrr}\n\\toprule\n{} &  Correct &  Partially correct &  Incorrect &  Invalid \\\\\n\\midrule\nBetter &        6 &                  8 &          0 &       20 \\\\\nEqual  &       17 &                  0 &          0 &       15 \\\\\nWorse  &        0 &                  0 &         21 &       11 \\\\\n\\bottomrule\n\\end{tabular}\n\n"
     ],
     "output_type": "stream"
    },
    {
     "data": {
      "text/plain": "        Correct  Partially correct  Incorrect  Invalid\nBetter        6                  8          0       20\nEqual        17                  0          0       15\nWorse         0                  0         21       11",
      "text/html": "<div>\n<style scoped>\n    .dataframe tbody tr th:only-of-type {\n        vertical-align: middle;\n    }\n\n    .dataframe tbody tr th {\n        vertical-align: top;\n    }\n\n    .dataframe thead th {\n        text-align: right;\n    }\n</style>\n<table border=\"1\" class=\"dataframe\">\n  <thead>\n    <tr style=\"text-align: right;\">\n      <th></th>\n      <th>Correct</th>\n      <th>Partially correct</th>\n      <th>Incorrect</th>\n      <th>Invalid</th>\n    </tr>\n  </thead>\n  <tbody>\n    <tr>\n      <th>Better</th>\n      <td>6</td>\n      <td>8</td>\n      <td>0</td>\n      <td>20</td>\n    </tr>\n    <tr>\n      <th>Equal</th>\n      <td>17</td>\n      <td>0</td>\n      <td>0</td>\n      <td>15</td>\n    </tr>\n    <tr>\n      <th>Worse</th>\n      <td>0</td>\n      <td>0</td>\n      <td>21</td>\n      <td>11</td>\n    </tr>\n  </tbody>\n</table>\n</div>"
     },
     "metadata": {},
     "output_type": "execute_result",
     "execution_count": 41
    }
   ],
   "source": [
    "print_metrics(df_modelos['Model2'])\n",
    "df_modelos['Model2']"
   ],
   "metadata": {
    "collapsed": false,
    "pycharm": {
     "name": "#%%\n",
     "is_executing": false
    }
   }
  },
  {
   "cell_type": "markdown",
   "source": [
    "### 2.3. Model3"
   ],
   "metadata": {
    "collapsed": false
   }
  },
  {
   "cell_type": "code",
   "execution_count": 42,
   "outputs": [
    {
     "name": "stdout",
     "text": [
      "Total:\t\t\t100\nValid:\t\t\t53 |\t53.00 %\nCorrect:\t\t4 |\t4.00 %\nPartially correct:\t12 |\t12.00 %\nIncorrect:\t\t37 |\t37.00 %\nInvalid:\t\t47 |\t47.00 %\n\nValid descriptions != alignment\n4\tValid NE. Correct:\t\t7.69 %\n11\tValid NE. Partially Correct:\t21.15 %\n37\tValid NE. Incorrect:\t\t71.15 %\n\nValid descriptions != alignment\n30\tBetter:\t30.00 %\n4\tEqual:\t4.00 %\n66\tWorse:\t66.00 %\n\n\\begin{tabular}{lrrrr}\n\\toprule\n{} &  Correct &  Partially correct &  Incorrect &  Invalid \\\\\n\\midrule\nBetter &        4 &                 11 &          0 &       15 \\\\\nEqual  &        0 &                  1 &          0 &        3 \\\\\nWorse  &        0 &                  0 &         37 &       29 \\\\\n\\bottomrule\n\\end{tabular}\n\n"
     ],
     "output_type": "stream"
    },
    {
     "data": {
      "text/plain": "        Correct  Partially correct  Incorrect  Invalid\nBetter        4                 11          0       15\nEqual         0                  1          0        3\nWorse         0                  0         37       29",
      "text/html": "<div>\n<style scoped>\n    .dataframe tbody tr th:only-of-type {\n        vertical-align: middle;\n    }\n\n    .dataframe tbody tr th {\n        vertical-align: top;\n    }\n\n    .dataframe thead th {\n        text-align: right;\n    }\n</style>\n<table border=\"1\" class=\"dataframe\">\n  <thead>\n    <tr style=\"text-align: right;\">\n      <th></th>\n      <th>Correct</th>\n      <th>Partially correct</th>\n      <th>Incorrect</th>\n      <th>Invalid</th>\n    </tr>\n  </thead>\n  <tbody>\n    <tr>\n      <th>Better</th>\n      <td>4</td>\n      <td>11</td>\n      <td>0</td>\n      <td>15</td>\n    </tr>\n    <tr>\n      <th>Equal</th>\n      <td>0</td>\n      <td>1</td>\n      <td>0</td>\n      <td>3</td>\n    </tr>\n    <tr>\n      <th>Worse</th>\n      <td>0</td>\n      <td>0</td>\n      <td>37</td>\n      <td>29</td>\n    </tr>\n  </tbody>\n</table>\n</div>"
     },
     "metadata": {},
     "output_type": "execute_result",
     "execution_count": 42
    }
   ],
   "source": [
    "print_metrics(df_modelos['Model3'])\n",
    "df_modelos['Model3']"
   ],
   "metadata": {
    "collapsed": false,
    "pycharm": {
     "name": "#%%\n",
     "is_executing": false
    }
   }
  },
  {
   "cell_type": "markdown",
   "source": [
    "### 2.4. Model4"
   ],
   "metadata": {
    "collapsed": false
   }
  },
  {
   "cell_type": "code",
   "execution_count": 43,
   "outputs": [
    {
     "name": "stdout",
     "text": [
      "Total:\t\t\t100\nValid:\t\t\t53 |\t53.00 %\nCorrect:\t\t20 |\t20.00 %\nPartially correct:\t10 |\t10.00 %\nIncorrect:\t\t23 |\t23.00 %\nInvalid:\t\t47 |\t47.00 %\n\nValid descriptions != alignment\n4\tValid NE. Correct:\t\t10.81 %\n10\tValid NE. Partially Correct:\t27.03 %\n23\tValid NE. Incorrect:\t\t62.16 %\n\nValid descriptions != alignment\n32\tBetter:\t32.00 %\n31\tEqual:\t31.00 %\n37\tWorse:\t37.00 %\n\n\\begin{tabular}{lrrrr}\n\\toprule\n{} &  Correct &  Partially correct &  Incorrect &  Invalid \\\\\n\\midrule\nBetter &        4 &                 10 &          0 &       18 \\\\\nEqual  &       16 &                  0 &          0 &       15 \\\\\nWorse  &        0 &                  0 &         23 &       14 \\\\\n\\bottomrule\n\\end{tabular}\n\n"
     ],
     "output_type": "stream"
    },
    {
     "data": {
      "text/plain": "        Correct  Partially correct  Incorrect  Invalid\nBetter        4                 10          0       18\nEqual        16                  0          0       15\nWorse         0                  0         23       14",
      "text/html": "<div>\n<style scoped>\n    .dataframe tbody tr th:only-of-type {\n        vertical-align: middle;\n    }\n\n    .dataframe tbody tr th {\n        vertical-align: top;\n    }\n\n    .dataframe thead th {\n        text-align: right;\n    }\n</style>\n<table border=\"1\" class=\"dataframe\">\n  <thead>\n    <tr style=\"text-align: right;\">\n      <th></th>\n      <th>Correct</th>\n      <th>Partially correct</th>\n      <th>Incorrect</th>\n      <th>Invalid</th>\n    </tr>\n  </thead>\n  <tbody>\n    <tr>\n      <th>Better</th>\n      <td>4</td>\n      <td>10</td>\n      <td>0</td>\n      <td>18</td>\n    </tr>\n    <tr>\n      <th>Equal</th>\n      <td>16</td>\n      <td>0</td>\n      <td>0</td>\n      <td>15</td>\n    </tr>\n    <tr>\n      <th>Worse</th>\n      <td>0</td>\n      <td>0</td>\n      <td>23</td>\n      <td>14</td>\n    </tr>\n  </tbody>\n</table>\n</div>"
     },
     "metadata": {},
     "output_type": "execute_result",
     "execution_count": 43
    }
   ],
   "source": [
    "print_metrics(df_modelos['Model4'])\n",
    "df_modelos['Model4']"
   ],
   "metadata": {
    "collapsed": false,
    "pycharm": {
     "name": "#%%\n",
     "is_executing": false
    }
   }
  },
  {
   "cell_type": "markdown",
   "source": [
    "### 2.5. Model5"
   ],
   "metadata": {
    "collapsed": false
   }
  },
  {
   "cell_type": "code",
   "execution_count": 44,
   "outputs": [
    {
     "name": "stdout",
     "text": [
      "Total:\t\t\t100\nValid:\t\t\t53 |\t53.00 %\nCorrect:\t\t4 |\t4.00 %\nPartially correct:\t12 |\t12.00 %\nIncorrect:\t\t37 |\t37.00 %\nInvalid:\t\t47 |\t47.00 %\n\nValid descriptions != alignment\n4\tValid NE. Correct:\t\t7.69 %\n11\tValid NE. Partially Correct:\t21.15 %\n37\tValid NE. Incorrect:\t\t71.15 %\n\nValid descriptions != alignment\n30\tBetter:\t30.00 %\n4\tEqual:\t4.00 %\n66\tWorse:\t66.00 %\n\n\\begin{tabular}{lrrrr}\n\\toprule\n{} &  Correct &  Partially correct &  Incorrect &  Invalid \\\\\n\\midrule\nBetter &        4 &                 11 &          0 &       15 \\\\\nEqual  &        0 &                  1 &          0 &        3 \\\\\nWorse  &        0 &                  0 &         37 &       29 \\\\\n\\bottomrule\n\\end{tabular}\n\n"
     ],
     "output_type": "stream"
    },
    {
     "data": {
      "text/plain": "        Correct  Partially correct  Incorrect  Invalid\nBetter        4                 11          0       15\nEqual         0                  1          0        3\nWorse         0                  0         37       29",
      "text/html": "<div>\n<style scoped>\n    .dataframe tbody tr th:only-of-type {\n        vertical-align: middle;\n    }\n\n    .dataframe tbody tr th {\n        vertical-align: top;\n    }\n\n    .dataframe thead th {\n        text-align: right;\n    }\n</style>\n<table border=\"1\" class=\"dataframe\">\n  <thead>\n    <tr style=\"text-align: right;\">\n      <th></th>\n      <th>Correct</th>\n      <th>Partially correct</th>\n      <th>Incorrect</th>\n      <th>Invalid</th>\n    </tr>\n  </thead>\n  <tbody>\n    <tr>\n      <th>Better</th>\n      <td>4</td>\n      <td>11</td>\n      <td>0</td>\n      <td>15</td>\n    </tr>\n    <tr>\n      <th>Equal</th>\n      <td>0</td>\n      <td>1</td>\n      <td>0</td>\n      <td>3</td>\n    </tr>\n    <tr>\n      <th>Worse</th>\n      <td>0</td>\n      <td>0</td>\n      <td>37</td>\n      <td>29</td>\n    </tr>\n  </tbody>\n</table>\n</div>"
     },
     "metadata": {},
     "output_type": "execute_result",
     "execution_count": 44
    }
   ],
   "source": [
    "print_metrics(df_modelos['Model5'])\n",
    "df_modelos['Model5']"
   ],
   "metadata": {
    "collapsed": false,
    "pycharm": {
     "name": "#%%\n",
     "is_executing": false
    }
   }
  },
  {
   "cell_type": "markdown",
   "source": [
    "### 2.6. Model6"
   ],
   "metadata": {
    "collapsed": false
   }
  },
  {
   "cell_type": "code",
   "execution_count": 45,
   "outputs": [
    {
     "name": "stdout",
     "text": [
      "Total:\t\t\t100\nValid:\t\t\t53 |\t53.00 %\nCorrect:\t\t20 |\t20.00 %\nPartially correct:\t10 |\t10.00 %\nIncorrect:\t\t23 |\t23.00 %\nInvalid:\t\t47 |\t47.00 %\n\nValid descriptions != alignment\n4\tValid NE. Correct:\t\t10.81 %\n10\tValid NE. Partially Correct:\t27.03 %\n23\tValid NE. Incorrect:\t\t62.16 %\n\nValid descriptions != alignment\n31\tBetter:\t31.00 %\n31\tEqual:\t31.00 %\n38\tWorse:\t38.00 %\n\n\\begin{tabular}{lrrrr}\n\\toprule\n{} &  Correct &  Partially correct &  Incorrect &  Invalid \\\\\n\\midrule\nBetter &        4 &                 10 &          0 &       17 \\\\\nEqual  &       16 &                  0 &          0 &       15 \\\\\nWorse  &        0 &                  0 &         23 &       15 \\\\\n\\bottomrule\n\\end{tabular}\n\n"
     ],
     "output_type": "stream"
    },
    {
     "data": {
      "text/plain": "        Correct  Partially correct  Incorrect  Invalid\nBetter        4                 10          0       17\nEqual        16                  0          0       15\nWorse         0                  0         23       15",
      "text/html": "<div>\n<style scoped>\n    .dataframe tbody tr th:only-of-type {\n        vertical-align: middle;\n    }\n\n    .dataframe tbody tr th {\n        vertical-align: top;\n    }\n\n    .dataframe thead th {\n        text-align: right;\n    }\n</style>\n<table border=\"1\" class=\"dataframe\">\n  <thead>\n    <tr style=\"text-align: right;\">\n      <th></th>\n      <th>Correct</th>\n      <th>Partially correct</th>\n      <th>Incorrect</th>\n      <th>Invalid</th>\n    </tr>\n  </thead>\n  <tbody>\n    <tr>\n      <th>Better</th>\n      <td>4</td>\n      <td>10</td>\n      <td>0</td>\n      <td>17</td>\n    </tr>\n    <tr>\n      <th>Equal</th>\n      <td>16</td>\n      <td>0</td>\n      <td>0</td>\n      <td>15</td>\n    </tr>\n    <tr>\n      <th>Worse</th>\n      <td>0</td>\n      <td>0</td>\n      <td>23</td>\n      <td>15</td>\n    </tr>\n  </tbody>\n</table>\n</div>"
     },
     "metadata": {},
     "output_type": "execute_result",
     "execution_count": 45
    }
   ],
   "source": [
    "print_metrics(df_modelos['Model6'])\n",
    "df_modelos['Model6']"
   ],
   "metadata": {
    "collapsed": false,
    "pycharm": {
     "name": "#%%\n",
     "is_executing": false
    }
   }
  }
 ],
 "metadata": {
  "kernelspec": {
   "display_name": "Python 3",
   "language": "python",
   "name": "python3"
  },
  "language_info": {
   "codemirror_mode": {
    "name": "ipython",
    "version": 2
   },
   "file_extension": ".py",
   "mimetype": "text/x-python",
   "name": "python",
   "nbconvert_exporter": "python",
   "pygments_lexer": "ipython2",
   "version": "2.7.6"
  },
  "pycharm": {
   "stem_cell": {
    "cell_type": "raw",
    "source": [],
    "metadata": {
     "collapsed": false
    }
   }
  }
 },
 "nbformat": 4,
 "nbformat_minor": 0
}