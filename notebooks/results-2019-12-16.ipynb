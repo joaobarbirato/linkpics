{
 "cells": [
  {
   "cell_type": "code",
   "execution_count": 2,
   "metadata": {
    "collapsed": true,
    "pycharm": {
     "is_executing": false
    }
   },
   "outputs": [],
   "source": []
  },
  {
   "cell_type": "markdown",
   "source": [
    "# Análise dos resultados da avaliação de descrições de alinhamentos\n",
    "---\n",
    "São Carlos, 16/12/2019"
   ],
   "metadata": {
    "collapsed": false
   }
  },
  {
   "cell_type": "code",
   "execution_count": 3,
   "outputs": [],
   "source": [
    "import pandas as pd\n",
    "import numpy as np\n",
    "import matplotlib.pyplot as plt\n",
    "from app.eval_module.desc_models import DescEval\n",
    "\n",
    "def print_metrics(df):\n",
    "    \"\"\"\n",
    "\n",
    "    :param df: pandas data-frame \n",
    "    :return: \n",
    "    \"\"\"\n",
    "    total = df.values.sum()\n",
    "    print(f\"Total:\\t\\t\\t{df.values.sum()}\")\n",
    "    print(f\"Valid:\\t\\t\\t{df.loc[:, 'Correto':'Incorreto'].values.sum()} |\\t{df.loc[:, 'Correto':'Incorreto'].values.sum()*100./total:.2f} %\")\n",
    "    print(f\"Correto:\\t\\t{df.loc[:, 'Correto'].values.sum()} |\\t{df.loc[:, 'Correto'].values.sum() * 100./total:.2f} %\")\n",
    "    print(f\"Parcialmente correto:\\t{df.loc[:, 'Parcialmente correto'].values.sum()} |\\t{df.loc[:, 'Parcialmente correto'].values.sum() * 100./total:.2f} %\")\n",
    "    print(f\"Incorreto:\\t\\t{df.loc[:, 'Incorreto'].values.sum()} |\\t{df.loc[:, 'Incorreto'].values.sum() * 100./total:.2f} %\")\n",
    "    print(f\"Inválido:\\t\\t{df.loc[:, 'Inválido'].values.sum()} |\\t{df.loc[:, 'Inválido'].values.sum() * 100./total:.2f} %\")\n",
    "    print()\n",
    "    print('Valid descriptions != alignment')\n",
    "    df1: pd.DataFrame = df.loc[:, 'Correto':'Incorreto']\n",
    "    # df1.loc[:, 'Correto'].sum()\n",
    "    total = df1.values.sum() - df1.loc['Igual'].sum()\n",
    "    Correto = df1.loc[:, 'Correto'].sum() - df1.loc['Igual', 'Correto'].sum()\n",
    "    p_Correto = df1.loc[:, 'Parcialmente correto'].sum() - df1.loc['Igual', 'Parcialmente correto'].sum()\n",
    "    Incorreto = df1.loc[:, 'Incorreto'].sum() - df1.loc['Igual', 'Incorreto'].sum()\n",
    "    print(f\"{Correto}\\tValid NE. Correto:\\t\\t{Correto * 100./total:.2f} %\")\n",
    "    print(f\"{p_Correto}\\tValid NE. Parcialmente correto:\\t{p_Correto * 100./total:.2f} %\")\n",
    "    print(f\"{Incorreto}\\tValid NE. Incorreto:\\t\\t{Incorreto * 100./total:.2f} %\")\n",
    "    print()\n",
    "    print('Valid descriptions != alignment')\n",
    "    df2 = df\n",
    "    total = df2.values.sum()\n",
    "    Melhor = df2.loc['Melhor'].sum()\n",
    "    Igual = df2.loc['Igual'].sum()\n",
    "    Pior = df2.loc['Pior'].sum()\n",
    "    print(f\"{Melhor}\\tMelhor:\\t{Melhor * 100./total:.2f} %\")\n",
    "    print(f\"{Igual}\\tIgual:\\t{Igual * 100./total:.2f} %\")\n",
    "    print(f\"{Pior}\\tPior:\\t{Pior * 100./total:.2f} %\")\n",
    "    print()\n",
    "    print(df.to_latex())"
   ],
   "metadata": {
    "collapsed": false,
    "pycharm": {
     "name": "#%%\n",
     "is_executing": false
    }
   }
  },
  {
   "cell_type": "markdown",
   "source": [
    "## 1. Análise geral"
   ],
   "metadata": {
    "collapsed": false
   }
  },
  {
   "cell_type": "code",
   "execution_count": 4,
   "outputs": [
    {
     "name": "stdout",
     "text": [
      "Total:\t\t\t596\n",
      "Valid:\t\t\t318 |\t53.36 %\n",
      "Correto:\t\t111 |\t18.62 %\n",
      "Parcialmente correto:\t49 |\t8.22 %\n",
      "Incorreto:\t\t158 |\t26.51 %\n",
      "Inválido:\t\t278 |\t46.64 %\n",
      "\n",
      "Valid descriptions != alignment\n",
      "59\tValid NE. Correto:\t\t22.61 %\n",
      "44\tValid NE. Parcialmente correto:\t16.86 %\n",
      "158\tValid NE. Incorreto:\t\t60.54 %\n",
      "\n",
      "Valid descriptions != alignment\n",
      "202\tMelhor:\t33.89 %\n",
      "111\tIgual:\t18.62 %\n",
      "283\tPior:\t47.48 %\n",
      "\n",
      "\\begin{tabular}{lrrrr}\n",
      "\\toprule\n",
      "{} &  Correto &  Parcialmente correto &  Incorreto &  Inválido \\\\\n",
      "\\midrule\n",
      "Melhor &       59 &                    44 &          0 &        99 \\\\\n",
      "Igual  &       52 &                     5 &          0 &        54 \\\\\n",
      "Pior   &        0 &                     0 &        158 &       125 \\\\\n",
      "\\bottomrule\n",
      "\\end{tabular}\n",
      "\n"
     ],
     "output_type": "stream"
    },
    {
     "data": {
      "text/plain": "        Correto  Parcialmente correto  Incorreto  Inválido\nMelhor       59                    44          0        99\nIgual        52                     5          0        54\nPior          0                     0        158       125",
      "text/html": "<div>\n<style scoped>\n    .dataframe tbody tr th:only-of-type {\n        vertical-align: middle;\n    }\n\n    .dataframe tbody tr th {\n        vertical-align: top;\n    }\n\n    .dataframe thead th {\n        text-align: right;\n    }\n</style>\n<table border=\"1\" class=\"dataframe\">\n  <thead>\n    <tr style=\"text-align: right;\">\n      <th></th>\n      <th>Correto</th>\n      <th>Parcialmente correto</th>\n      <th>Incorreto</th>\n      <th>Inválido</th>\n    </tr>\n  </thead>\n  <tbody>\n    <tr>\n      <th>Melhor</th>\n      <td>59</td>\n      <td>44</td>\n      <td>0</td>\n      <td>99</td>\n    </tr>\n    <tr>\n      <th>Igual</th>\n      <td>52</td>\n      <td>5</td>\n      <td>0</td>\n      <td>54</td>\n    </tr>\n    <tr>\n      <th>Pior</th>\n      <td>0</td>\n      <td>0</td>\n      <td>158</td>\n      <td>125</td>\n    </tr>\n  </tbody>\n</table>\n</div>"
     },
     "metadata": {},
     "output_type": "execute_result",
     "execution_count": 4
    }
   ],
   "source": [
    "possible_approval = [2, 1, 0, -1]\n",
    "possible_comparing = [2, 1, 0]\n",
    "\n",
    "df = pd.DataFrame([\n",
    "    [\n",
    "        len([de for de in DescEval.query.filter_by(approval=pa, compare_baseline=pc)]) for pa in possible_approval\n",
    "    ] for pc in possible_comparing\n",
    "], columns=[DescEval.APPROVAL_TABLE[pa] for pa in possible_approval],\n",
    "index=[DescEval.COMPARE_BASELINE_TABLE[pc] for pc in possible_comparing])\n",
    "\n",
    "print_metrics(df)\n",
    "df"
   ],
   "metadata": {
    "collapsed": false,
    "pycharm": {
     "name": "#%%\n",
     "is_executing": false
    }
   }
  },
  {
   "cell_type": "markdown",
   "source": [
    "## 2. Análise por modelo"
   ],
   "metadata": {
    "collapsed": false
   }
  },
  {
   "cell_type": "code",
   "execution_count": 5,
   "outputs": [],
   "source": [
    "from app.desc_module.models import Description\n",
    "df_modelos = {}\n",
    "\n",
    "for key, value in Description.METHOD_TABLE.items():\n",
    "    df_modelos[value] = pd.DataFrame([\n",
    "        [\n",
    "            len([de for de in DescEval.query.filter_by(approval=pa, compare_baseline=pc) if de.get_method() == value]) for pa in possible_approval\n",
    "        ] for pc in possible_comparing\n",
    "    ], columns=[DescEval.APPROVAL_TABLE[pa] for pa in possible_approval],\n",
    "    index=[DescEval.COMPARE_BASELINE_TABLE[pc] for pc in possible_comparing])"
   ],
   "metadata": {
    "collapsed": false,
    "pycharm": {
     "name": "#%%\n",
     "is_executing": false
    }
   }
  },
  {
   "cell_type": "markdown",
   "source": [
    "### 2.1. Model1"
   ],
   "metadata": {
    "collapsed": false
   }
  },
  {
   "cell_type": "code",
   "execution_count": 6,
   "outputs": [
    {
     "name": "stdout",
     "text": [
      "Total:\t\t\t98\n",
      "Valid:\t\t\t54 |\t55.10 %\n",
      "Correto:\t\t14 |\t14.29 %\n",
      "Parcialmente correto:\t9 |\t9.18 %\n",
      "Incorreto:\t\t31 |\t31.63 %\n",
      "Inválido:\t\t44 |\t44.90 %\n",
      "\n",
      "Valid descriptions != alignment\n",
      "13\tValid NE. Correto:\t\t25.00 %\n",
      "8\tValid NE. Parcialmente correto:\t15.38 %\n",
      "31\tValid NE. Incorreto:\t\t59.62 %\n",
      "\n",
      "Valid descriptions != alignment\n",
      "35\tMelhor:\t35.71 %\n",
      "5\tIgual:\t5.10 %\n",
      "58\tPior:\t59.18 %\n",
      "\n",
      "\\begin{tabular}{lrrrr}\n",
      "\\toprule\n",
      "{} &  Correto &  Parcialmente correto &  Incorreto &  Inválido \\\\\n",
      "\\midrule\n",
      "Melhor &       13 &                     8 &          0 &        14 \\\\\n",
      "Igual  &        1 &                     1 &          0 &         3 \\\\\n",
      "Pior   &        0 &                     0 &         31 &        27 \\\\\n",
      "\\bottomrule\n",
      "\\end{tabular}\n",
      "\n"
     ],
     "output_type": "stream"
    },
    {
     "data": {
      "text/plain": "        Correto  Parcialmente correto  Incorreto  Inválido\nMelhor       13                     8          0        14\nIgual         1                     1          0         3\nPior          0                     0         31        27",
      "text/html": "<div>\n<style scoped>\n    .dataframe tbody tr th:only-of-type {\n        vertical-align: middle;\n    }\n\n    .dataframe tbody tr th {\n        vertical-align: top;\n    }\n\n    .dataframe thead th {\n        text-align: right;\n    }\n</style>\n<table border=\"1\" class=\"dataframe\">\n  <thead>\n    <tr style=\"text-align: right;\">\n      <th></th>\n      <th>Correto</th>\n      <th>Parcialmente correto</th>\n      <th>Incorreto</th>\n      <th>Inválido</th>\n    </tr>\n  </thead>\n  <tbody>\n    <tr>\n      <th>Melhor</th>\n      <td>13</td>\n      <td>8</td>\n      <td>0</td>\n      <td>14</td>\n    </tr>\n    <tr>\n      <th>Igual</th>\n      <td>1</td>\n      <td>1</td>\n      <td>0</td>\n      <td>3</td>\n    </tr>\n    <tr>\n      <th>Pior</th>\n      <td>0</td>\n      <td>0</td>\n      <td>31</td>\n      <td>27</td>\n    </tr>\n  </tbody>\n</table>\n</div>"
     },
     "metadata": {},
     "output_type": "execute_result",
     "execution_count": 6
    }
   ],
   "source": [
    "print_metrics(df_modelos['Model1'])\n",
    "df_modelos['Model1']"
   ],
   "metadata": {
    "collapsed": false,
    "pycharm": {
     "name": "#%%\n",
     "is_executing": false
    }
   }
  },
  {
   "cell_type": "markdown",
   "source": [
    "### 2.2. Model2"
   ],
   "metadata": {
    "collapsed": false
   }
  },
  {
   "cell_type": "code",
   "execution_count": 7,
   "outputs": [
    {
     "name": "stdout",
     "text": [
      "Total:\t\t\t98\n",
      "Valid:\t\t\t52 |\t53.06 %\n",
      "Correto:\t\t27 |\t27.55 %\n",
      "Parcialmente correto:\t6 |\t6.12 %\n",
      "Incorreto:\t\t19 |\t19.39 %\n",
      "Inválido:\t\t46 |\t46.94 %\n",
      "\n",
      "Valid descriptions != alignment\n",
      "10\tValid NE. Correto:\t\t28.57 %\n",
      "6\tValid NE. Parcialmente correto:\t17.14 %\n",
      "19\tValid NE. Incorreto:\t\t54.29 %\n",
      "\n",
      "Valid descriptions != alignment\n",
      "36\tMelhor:\t36.73 %\n",
      "32\tIgual:\t32.65 %\n",
      "30\tPior:\t30.61 %\n",
      "\n",
      "\\begin{tabular}{lrrrr}\n",
      "\\toprule\n",
      "{} &  Correto &  Parcialmente correto &  Incorreto &  Inválido \\\\\n",
      "\\midrule\n",
      "Melhor &       10 &                     6 &          0 &        20 \\\\\n",
      "Igual  &       17 &                     0 &          0 &        15 \\\\\n",
      "Pior   &        0 &                     0 &         19 &        11 \\\\\n",
      "\\bottomrule\n",
      "\\end{tabular}\n",
      "\n"
     ],
     "output_type": "stream"
    },
    {
     "data": {
      "text/plain": "        Correto  Parcialmente correto  Incorreto  Inválido\nMelhor       10                     6          0        20\nIgual        17                     0          0        15\nPior          0                     0         19        11",
      "text/html": "<div>\n<style scoped>\n    .dataframe tbody tr th:only-of-type {\n        vertical-align: middle;\n    }\n\n    .dataframe tbody tr th {\n        vertical-align: top;\n    }\n\n    .dataframe thead th {\n        text-align: right;\n    }\n</style>\n<table border=\"1\" class=\"dataframe\">\n  <thead>\n    <tr style=\"text-align: right;\">\n      <th></th>\n      <th>Correto</th>\n      <th>Parcialmente correto</th>\n      <th>Incorreto</th>\n      <th>Inválido</th>\n    </tr>\n  </thead>\n  <tbody>\n    <tr>\n      <th>Melhor</th>\n      <td>10</td>\n      <td>6</td>\n      <td>0</td>\n      <td>20</td>\n    </tr>\n    <tr>\n      <th>Igual</th>\n      <td>17</td>\n      <td>0</td>\n      <td>0</td>\n      <td>15</td>\n    </tr>\n    <tr>\n      <th>Pior</th>\n      <td>0</td>\n      <td>0</td>\n      <td>19</td>\n      <td>11</td>\n    </tr>\n  </tbody>\n</table>\n</div>"
     },
     "metadata": {},
     "output_type": "execute_result",
     "execution_count": 7
    }
   ],
   "source": [
    "print_metrics(df_modelos['Model2'])\n",
    "df_modelos['Model2']"
   ],
   "metadata": {
    "collapsed": false,
    "pycharm": {
     "name": "#%%\n",
     "is_executing": false
    }
   }
  },
  {
   "cell_type": "markdown",
   "source": [
    "### 2.3. Model3"
   ],
   "metadata": {
    "collapsed": false
   }
  },
  {
   "cell_type": "code",
   "execution_count": 8,
   "outputs": [
    {
     "name": "stdout",
     "text": [
      "Total:\t\t\t100\n",
      "Valid:\t\t\t53 |\t53.00 %\n",
      "Correto:\t\t10 |\t10.00 %\n",
      "Parcialmente correto:\t10 |\t10.00 %\n",
      "Incorreto:\t\t33 |\t33.00 %\n",
      "Inválido:\t\t47 |\t47.00 %\n",
      "\n",
      "Valid descriptions != alignment\n",
      "9\tValid NE. Correto:\t\t17.65 %\n",
      "9\tValid NE. Parcialmente correto:\t17.65 %\n",
      "33\tValid NE. Incorreto:\t\t64.71 %\n",
      "\n",
      "Valid descriptions != alignment\n",
      "33\tMelhor:\t33.00 %\n",
      "5\tIgual:\t5.00 %\n",
      "62\tPior:\t62.00 %\n",
      "\n",
      "\\begin{tabular}{lrrrr}\n",
      "\\toprule\n",
      "{} &  Correto &  Parcialmente correto &  Incorreto &  Inválido \\\\\n",
      "\\midrule\n",
      "Melhor &        9 &                     9 &          0 &        15 \\\\\n",
      "Igual  &        1 &                     1 &          0 &         3 \\\\\n",
      "Pior   &        0 &                     0 &         33 &        29 \\\\\n",
      "\\bottomrule\n",
      "\\end{tabular}\n",
      "\n"
     ],
     "output_type": "stream"
    },
    {
     "data": {
      "text/plain": "        Correto  Parcialmente correto  Incorreto  Inválido\nMelhor        9                     9          0        15\nIgual         1                     1          0         3\nPior          0                     0         33        29",
      "text/html": "<div>\n<style scoped>\n    .dataframe tbody tr th:only-of-type {\n        vertical-align: middle;\n    }\n\n    .dataframe tbody tr th {\n        vertical-align: top;\n    }\n\n    .dataframe thead th {\n        text-align: right;\n    }\n</style>\n<table border=\"1\" class=\"dataframe\">\n  <thead>\n    <tr style=\"text-align: right;\">\n      <th></th>\n      <th>Correto</th>\n      <th>Parcialmente correto</th>\n      <th>Incorreto</th>\n      <th>Inválido</th>\n    </tr>\n  </thead>\n  <tbody>\n    <tr>\n      <th>Melhor</th>\n      <td>9</td>\n      <td>9</td>\n      <td>0</td>\n      <td>15</td>\n    </tr>\n    <tr>\n      <th>Igual</th>\n      <td>1</td>\n      <td>1</td>\n      <td>0</td>\n      <td>3</td>\n    </tr>\n    <tr>\n      <th>Pior</th>\n      <td>0</td>\n      <td>0</td>\n      <td>33</td>\n      <td>29</td>\n    </tr>\n  </tbody>\n</table>\n</div>"
     },
     "metadata": {},
     "output_type": "execute_result",
     "execution_count": 8
    }
   ],
   "source": [
    "print_metrics(df_modelos['Model3'])\n",
    "df_modelos['Model3']"
   ],
   "metadata": {
    "collapsed": false,
    "pycharm": {
     "name": "#%%\n",
     "is_executing": false
    }
   }
  },
  {
   "cell_type": "markdown",
   "source": [
    "### 2.4. Model4"
   ],
   "metadata": {
    "collapsed": false
   }
  },
  {
   "cell_type": "code",
   "execution_count": 9,
   "outputs": [
    {
     "name": "stdout",
     "text": [
      "Total:\t\t\t100\n",
      "Valid:\t\t\t53 |\t53.00 %\n",
      "Correto:\t\t25 |\t25.00 %\n",
      "Parcialmente correto:\t7 |\t7.00 %\n",
      "Incorreto:\t\t21 |\t21.00 %\n",
      "Inválido:\t\t47 |\t47.00 %\n",
      "\n",
      "Valid descriptions != alignment\n",
      "9\tValid NE. Correto:\t\t25.00 %\n",
      "6\tValid NE. Parcialmente correto:\t16.67 %\n",
      "21\tValid NE. Incorreto:\t\t58.33 %\n",
      "\n",
      "Valid descriptions != alignment\n",
      "33\tMelhor:\t33.00 %\n",
      "32\tIgual:\t32.00 %\n",
      "35\tPior:\t35.00 %\n",
      "\n",
      "\\begin{tabular}{lrrrr}\n",
      "\\toprule\n",
      "{} &  Correto &  Parcialmente correto &  Incorreto &  Inválido \\\\\n",
      "\\midrule\n",
      "Melhor &        9 &                     6 &          0 &        18 \\\\\n",
      "Igual  &       16 &                     1 &          0 &        15 \\\\\n",
      "Pior   &        0 &                     0 &         21 &        14 \\\\\n",
      "\\bottomrule\n",
      "\\end{tabular}\n",
      "\n"
     ],
     "output_type": "stream"
    },
    {
     "data": {
      "text/plain": "        Correto  Parcialmente correto  Incorreto  Inválido\nMelhor        9                     6          0        18\nIgual        16                     1          0        15\nPior          0                     0         21        14",
      "text/html": "<div>\n<style scoped>\n    .dataframe tbody tr th:only-of-type {\n        vertical-align: middle;\n    }\n\n    .dataframe tbody tr th {\n        vertical-align: top;\n    }\n\n    .dataframe thead th {\n        text-align: right;\n    }\n</style>\n<table border=\"1\" class=\"dataframe\">\n  <thead>\n    <tr style=\"text-align: right;\">\n      <th></th>\n      <th>Correto</th>\n      <th>Parcialmente correto</th>\n      <th>Incorreto</th>\n      <th>Inválido</th>\n    </tr>\n  </thead>\n  <tbody>\n    <tr>\n      <th>Melhor</th>\n      <td>9</td>\n      <td>6</td>\n      <td>0</td>\n      <td>18</td>\n    </tr>\n    <tr>\n      <th>Igual</th>\n      <td>16</td>\n      <td>1</td>\n      <td>0</td>\n      <td>15</td>\n    </tr>\n    <tr>\n      <th>Pior</th>\n      <td>0</td>\n      <td>0</td>\n      <td>21</td>\n      <td>14</td>\n    </tr>\n  </tbody>\n</table>\n</div>"
     },
     "metadata": {},
     "output_type": "execute_result",
     "execution_count": 9
    }
   ],
   "source": [
    "print_metrics(df_modelos['Model4'])\n",
    "df_modelos['Model4']"
   ],
   "metadata": {
    "collapsed": false,
    "pycharm": {
     "name": "#%%\n",
     "is_executing": false
    }
   }
  },
  {
   "cell_type": "markdown",
   "source": [
    "### 2.5. Model5"
   ],
   "metadata": {
    "collapsed": false
   }
  },
  {
   "cell_type": "code",
   "execution_count": 10,
   "outputs": [
    {
     "name": "stdout",
     "text": [
      "Total:\t\t\t100\n",
      "Valid:\t\t\t53 |\t53.00 %\n",
      "Correto:\t\t10 |\t10.00 %\n",
      "Parcialmente correto:\t10 |\t10.00 %\n",
      "Incorreto:\t\t33 |\t33.00 %\n",
      "Inválido:\t\t47 |\t47.00 %\n",
      "\n",
      "Valid descriptions != alignment\n",
      "9\tValid NE. Correto:\t\t17.65 %\n",
      "9\tValid NE. Parcialmente correto:\t17.65 %\n",
      "33\tValid NE. Incorreto:\t\t64.71 %\n",
      "\n",
      "Valid descriptions != alignment\n",
      "33\tMelhor:\t33.00 %\n",
      "5\tIgual:\t5.00 %\n",
      "62\tPior:\t62.00 %\n",
      "\n",
      "\\begin{tabular}{lrrrr}\n",
      "\\toprule\n",
      "{} &  Correto &  Parcialmente correto &  Incorreto &  Inválido \\\\\n",
      "\\midrule\n",
      "Melhor &        9 &                     9 &          0 &        15 \\\\\n",
      "Igual  &        1 &                     1 &          0 &         3 \\\\\n",
      "Pior   &        0 &                     0 &         33 &        29 \\\\\n",
      "\\bottomrule\n",
      "\\end{tabular}\n",
      "\n"
     ],
     "output_type": "stream"
    },
    {
     "data": {
      "text/plain": "        Correto  Parcialmente correto  Incorreto  Inválido\nMelhor        9                     9          0        15\nIgual         1                     1          0         3\nPior          0                     0         33        29",
      "text/html": "<div>\n<style scoped>\n    .dataframe tbody tr th:only-of-type {\n        vertical-align: middle;\n    }\n\n    .dataframe tbody tr th {\n        vertical-align: top;\n    }\n\n    .dataframe thead th {\n        text-align: right;\n    }\n</style>\n<table border=\"1\" class=\"dataframe\">\n  <thead>\n    <tr style=\"text-align: right;\">\n      <th></th>\n      <th>Correto</th>\n      <th>Parcialmente correto</th>\n      <th>Incorreto</th>\n      <th>Inválido</th>\n    </tr>\n  </thead>\n  <tbody>\n    <tr>\n      <th>Melhor</th>\n      <td>9</td>\n      <td>9</td>\n      <td>0</td>\n      <td>15</td>\n    </tr>\n    <tr>\n      <th>Igual</th>\n      <td>1</td>\n      <td>1</td>\n      <td>0</td>\n      <td>3</td>\n    </tr>\n    <tr>\n      <th>Pior</th>\n      <td>0</td>\n      <td>0</td>\n      <td>33</td>\n      <td>29</td>\n    </tr>\n  </tbody>\n</table>\n</div>"
     },
     "metadata": {},
     "output_type": "execute_result",
     "execution_count": 10
    }
   ],
   "source": [
    "print_metrics(df_modelos['Model5'])\n",
    "df_modelos['Model5']"
   ],
   "metadata": {
    "collapsed": false,
    "pycharm": {
     "name": "#%%\n",
     "is_executing": false
    }
   }
  },
  {
   "cell_type": "markdown",
   "source": [
    "### 2.6. Model6"
   ],
   "metadata": {
    "collapsed": false
   }
  },
  {
   "cell_type": "code",
   "execution_count": 11,
   "outputs": [
    {
     "name": "stdout",
     "text": [
      "Total:\t\t\t100\n",
      "Valid:\t\t\t53 |\t53.00 %\n",
      "Correto:\t\t25 |\t25.00 %\n",
      "Parcialmente correto:\t7 |\t7.00 %\n",
      "Incorreto:\t\t21 |\t21.00 %\n",
      "Inválido:\t\t47 |\t47.00 %\n",
      "\n",
      "Valid descriptions != alignment\n",
      "9\tValid NE. Correto:\t\t25.00 %\n",
      "6\tValid NE. Parcialmente correto:\t16.67 %\n",
      "21\tValid NE. Incorreto:\t\t58.33 %\n",
      "\n",
      "Valid descriptions != alignment\n",
      "32\tMelhor:\t32.00 %\n",
      "32\tIgual:\t32.00 %\n",
      "36\tPior:\t36.00 %\n",
      "\n",
      "\\begin{tabular}{lrrrr}\n",
      "\\toprule\n",
      "{} &  Correto &  Parcialmente correto &  Incorreto &  Inválido \\\\\n",
      "\\midrule\n",
      "Melhor &        9 &                     6 &          0 &        17 \\\\\n",
      "Igual  &       16 &                     1 &          0 &        15 \\\\\n",
      "Pior   &        0 &                     0 &         21 &        15 \\\\\n",
      "\\bottomrule\n",
      "\\end{tabular}\n",
      "\n"
     ],
     "output_type": "stream"
    },
    {
     "data": {
      "text/plain": "        Correto  Parcialmente correto  Incorreto  Inválido\nMelhor        9                     6          0        17\nIgual        16                     1          0        15\nPior          0                     0         21        15",
      "text/html": "<div>\n<style scoped>\n    .dataframe tbody tr th:only-of-type {\n        vertical-align: middle;\n    }\n\n    .dataframe tbody tr th {\n        vertical-align: top;\n    }\n\n    .dataframe thead th {\n        text-align: right;\n    }\n</style>\n<table border=\"1\" class=\"dataframe\">\n  <thead>\n    <tr style=\"text-align: right;\">\n      <th></th>\n      <th>Correto</th>\n      <th>Parcialmente correto</th>\n      <th>Incorreto</th>\n      <th>Inválido</th>\n    </tr>\n  </thead>\n  <tbody>\n    <tr>\n      <th>Melhor</th>\n      <td>9</td>\n      <td>6</td>\n      <td>0</td>\n      <td>17</td>\n    </tr>\n    <tr>\n      <th>Igual</th>\n      <td>16</td>\n      <td>1</td>\n      <td>0</td>\n      <td>15</td>\n    </tr>\n    <tr>\n      <th>Pior</th>\n      <td>0</td>\n      <td>0</td>\n      <td>21</td>\n      <td>15</td>\n    </tr>\n  </tbody>\n</table>\n</div>"
     },
     "metadata": {},
     "output_type": "execute_result",
     "execution_count": 11
    }
   ],
   "source": [
    "print_metrics(df_modelos['Model6'])\n",
    "df_modelos['Model6']\n"
   ],
   "metadata": {
    "collapsed": false,
    "pycharm": {
     "name": "#%%\n",
     "is_executing": false
    }
   }
  },
  {
   "cell_type": "code",
   "execution_count": 13,
   "outputs": [
    {
     "name": "stdout",
     "text": [
      "\\begin{tabular}{lllllll}\n",
      "\\toprule\n",
      "{} & Correto & Parcialmente correto & Incorreto & Melhores & Iguais & Piores \\\\\n",
      "\\midrule\n",
      "Model1 &   25.00 &                15.38 &     59.62 &    35.71 &   5.10 &  59.18 \\\\\n",
      "Model2 &   28.57 &                17.14 &     54.29 &    36.73 &  32.65 &  30.61 \\\\\n",
      "Model3 &   17.65 &                17.65 &     64.71 &    33.00 &   5.00 &  62.00 \\\\\n",
      "Model4 &   25.00 &                16.67 &     58.33 &    33.00 &  32.00 &  35.00 \\\\\n",
      "Model5 &   17.65 &                17.65 &     64.71 &    33.00 &   5.00 &  62.00 \\\\\n",
      "Model6 &   25.00 &                16.67 &     58.33 &    32.00 &  32.00 &  36.00 \\\\\n",
      "\\bottomrule\n",
      "\\end{tabular}\n",
      "\n"
     ],
     "output_type": "stream"
    },
    {
     "data": {
      "text/plain": "       Correto Parcialmente correto Incorreto Melhores Iguais Piores\nModel1   25.00                15.38     59.62    35.71   5.10  59.18\nModel2   28.57                17.14     54.29    36.73  32.65  30.61\nModel3   17.65                17.65     64.71    33.00   5.00  62.00\nModel4   25.00                16.67     58.33    33.00  32.00  35.00\nModel5   17.65                17.65     64.71    33.00   5.00  62.00\nModel6   25.00                16.67     58.33    32.00  32.00  36.00",
      "text/html": "<div>\n<style scoped>\n    .dataframe tbody tr th:only-of-type {\n        vertical-align: middle;\n    }\n\n    .dataframe tbody tr th {\n        vertical-align: top;\n    }\n\n    .dataframe thead th {\n        text-align: right;\n    }\n</style>\n<table border=\"1\" class=\"dataframe\">\n  <thead>\n    <tr style=\"text-align: right;\">\n      <th></th>\n      <th>Correto</th>\n      <th>Parcialmente correto</th>\n      <th>Incorreto</th>\n      <th>Melhores</th>\n      <th>Iguais</th>\n      <th>Piores</th>\n    </tr>\n  </thead>\n  <tbody>\n    <tr>\n      <th>Model1</th>\n      <td>25.00</td>\n      <td>15.38</td>\n      <td>59.62</td>\n      <td>35.71</td>\n      <td>5.10</td>\n      <td>59.18</td>\n    </tr>\n    <tr>\n      <th>Model2</th>\n      <td>28.57</td>\n      <td>17.14</td>\n      <td>54.29</td>\n      <td>36.73</td>\n      <td>32.65</td>\n      <td>30.61</td>\n    </tr>\n    <tr>\n      <th>Model3</th>\n      <td>17.65</td>\n      <td>17.65</td>\n      <td>64.71</td>\n      <td>33.00</td>\n      <td>5.00</td>\n      <td>62.00</td>\n    </tr>\n    <tr>\n      <th>Model4</th>\n      <td>25.00</td>\n      <td>16.67</td>\n      <td>58.33</td>\n      <td>33.00</td>\n      <td>32.00</td>\n      <td>35.00</td>\n    </tr>\n    <tr>\n      <th>Model5</th>\n      <td>17.65</td>\n      <td>17.65</td>\n      <td>64.71</td>\n      <td>33.00</td>\n      <td>5.00</td>\n      <td>62.00</td>\n    </tr>\n    <tr>\n      <th>Model6</th>\n      <td>25.00</td>\n      <td>16.67</td>\n      <td>58.33</td>\n      <td>32.00</td>\n      <td>32.00</td>\n      <td>36.00</td>\n    </tr>\n  </tbody>\n</table>\n</div>"
     },
     "metadata": {},
     "output_type": "execute_result",
     "execution_count": 13
    }
   ],
   "source": [
    "df_comparacao = pd.DataFrame([\n",
    "    [\n",
    "        f\"{(df.loc[:, 'Correto':'Incorreto'].loc[:, 'Correto'].sum() - df.loc[:, 'Correto':'Incorreto'].loc['Igual', 'Correto'].sum()) * 100/(df.loc[:, 'Correto':'Incorreto'].values.sum() - df.loc[:, 'Correto':'Incorreto'].loc['Igual'].sum()):.2f}\",\n",
    "        f\"{(df.loc[:, 'Correto':'Incorreto'].loc[:, 'Parcialmente correto'].sum() - df.loc[:, 'Correto':'Incorreto'].loc['Igual', 'Parcialmente correto'].sum()) * 100/(df.loc[:, 'Correto':'Incorreto'].values.sum() - df.loc[:, 'Correto':'Incorreto'].loc['Igual'].sum()):.2f}\",\n",
    "        f\"{(df.loc[:, 'Correto':'Incorreto'].loc[:, 'Incorreto'].sum() - df.loc[:, 'Correto':'Incorreto'].loc['Igual', 'Incorreto'].sum()) * 100/(df.loc[:, 'Correto':'Incorreto'].values.sum() - df.loc[:, 'Correto':'Incorreto'].loc['Igual'].sum()):.2f}\",\n",
    "        f\"{df.loc['Melhor'].sum() * 100./df.values.sum():.2f}\",\n",
    "        f\"{df.loc['Igual'].sum() * 100./df.values.sum():.2f}\",\n",
    "        f\"{df.loc['Pior'].sum() * 100./df.values.sum():.2f}\"\n",
    "    ] for _, df in df_modelos.items()\n",
    "], columns=['Correto', 'Parcialmente correto', 'Incorreto', 'Melhores', 'Iguais', 'Piores'],\n",
    "index=[key for key, _ in df_modelos.items()])\n",
    "\n",
    "print(df_comparacao.to_latex())\n",
    "\n",
    "df_comparacao"
   ],
   "metadata": {
    "collapsed": false,
    "pycharm": {
     "name": "#%%\n",
     "is_executing": false
    }
   }
  }
 ],
 "metadata": {
  "kernelspec": {
   "display_name": "Python 3",
   "language": "python",
   "name": "python3"
  },
  "language_info": {
   "codemirror_mode": {
    "name": "ipython",
    "version": 2
   },
   "file_extension": ".py",
   "mimetype": "text/x-python",
   "name": "python",
   "nbconvert_exporter": "python",
   "pygments_lexer": "ipython2",
   "version": "2.7.6"
  },
  "pycharm": {
   "stem_cell": {
    "cell_type": "raw",
    "source": [],
    "metadata": {
     "collapsed": false
    }
   }
  }
 },
 "nbformat": 4,
 "nbformat_minor": 0
}